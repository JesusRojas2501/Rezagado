{
 "cells": [
  {
   "cell_type": "markdown",
   "id": "363fd1ee",
   "metadata": {},
   "source": [
    "# Pregunta 1"
   ]
  },
  {
   "cell_type": "code",
   "execution_count": 2,
   "id": "15259779",
   "metadata": {
    "scrolled": true
   },
   "outputs": [
    {
     "name": "stdout",
     "output_type": "stream",
     "text": [
      "Requirement already satisfied: pandas in c:\\users\\alumno\\anaconda3\\lib\\site-packages (1.4.2)Note: you may need to restart the kernel to use updated packages.\n",
      "Requirement already satisfied: numpy>=1.18.5 in c:\\users\\alumno\\anaconda3\\lib\\site-packages (from pandas) (1.21.5)\n",
      "Requirement already satisfied: pytz>=2020.1 in c:\\users\\alumno\\anaconda3\\lib\\site-packages (from pandas) (2021.3)\n",
      "Requirement already satisfied: python-dateutil>=2.8.1 in c:\\users\\alumno\\anaconda3\\lib\\site-packages (from pandas) (2.8.2)\n",
      "Requirement already satisfied: six>=1.5 in c:\\users\\alumno\\anaconda3\\lib\\site-packages (from python-dateutil>=2.8.1->pandas) (1.16.0)\n",
      "\n"
     ]
    }
   ],
   "source": [
    "#pip install pandas"
   ]
  },
  {
   "cell_type": "code",
   "execution_count": 19,
   "id": "fab4ebd8",
   "metadata": {},
   "outputs": [
    {
     "name": "stdout",
     "output_type": "stream",
     "text": [
      "Collecting polarsNote: you may need to restart the kernel to use updated packages.\n",
      "\n",
      "  Downloading polars-0.18.6-cp38-abi3-win_amd64.whl (19.8 MB)\n",
      "Installing collected packages: polars\n",
      "Successfully installed polars-0.18.6\n"
     ]
    }
   ],
   "source": [
    "#pip install polars"
   ]
  },
  {
   "cell_type": "code",
   "execution_count": 99,
   "id": "98fa3626",
   "metadata": {
    "scrolled": true
   },
   "outputs": [
    {
     "data": {
      "text/html": [
       "<div><style>\n",
       ".dataframe > thead > tr > th,\n",
       ".dataframe > tbody > tr > td {\n",
       "  text-align: right;\n",
       "}\n",
       "</style>\n",
       "<small>shape: (607, 12)</small><table border=\"1\" class=\"dataframe\"><thead><tr><th></th><th>work_year</th><th>experience_level</th><th>employment_type</th><th>job_title</th><th>salary</th><th>salary_currency</th><th>salary_in_usd</th><th>employee_residence</th><th>remote_ratio</th><th>company_location</th><th>company_size</th></tr><tr><td>i64</td><td>i64</td><td>str</td><td>str</td><td>str</td><td>i64</td><td>str</td><td>i64</td><td>str</td><td>i64</td><td>str</td><td>str</td></tr></thead><tbody><tr><td>0</td><td>2020</td><td>&quot;MI&quot;</td><td>&quot;FT&quot;</td><td>&quot;Data Scientist…</td><td>70000</td><td>&quot;EUR&quot;</td><td>79833</td><td>&quot;DE&quot;</td><td>0</td><td>&quot;DE&quot;</td><td>&quot;L&quot;</td></tr><tr><td>1</td><td>2020</td><td>&quot;SE&quot;</td><td>&quot;FT&quot;</td><td>&quot;Machine Learni…</td><td>260000</td><td>&quot;USD&quot;</td><td>260000</td><td>&quot;JP&quot;</td><td>0</td><td>&quot;JP&quot;</td><td>&quot;S&quot;</td></tr><tr><td>2</td><td>2020</td><td>&quot;SE&quot;</td><td>&quot;FT&quot;</td><td>&quot;Big Data Engin…</td><td>85000</td><td>&quot;GBP&quot;</td><td>109024</td><td>&quot;GB&quot;</td><td>50</td><td>&quot;GB&quot;</td><td>&quot;M&quot;</td></tr><tr><td>3</td><td>2020</td><td>&quot;MI&quot;</td><td>&quot;FT&quot;</td><td>&quot;Product Data A…</td><td>20000</td><td>&quot;USD&quot;</td><td>20000</td><td>&quot;HN&quot;</td><td>0</td><td>&quot;HN&quot;</td><td>&quot;S&quot;</td></tr><tr><td>4</td><td>2020</td><td>&quot;SE&quot;</td><td>&quot;FT&quot;</td><td>&quot;Machine Learni…</td><td>150000</td><td>&quot;USD&quot;</td><td>150000</td><td>&quot;US&quot;</td><td>50</td><td>&quot;US&quot;</td><td>&quot;L&quot;</td></tr><tr><td>5</td><td>2020</td><td>&quot;EN&quot;</td><td>&quot;FT&quot;</td><td>&quot;Data Analyst&quot;</td><td>72000</td><td>&quot;USD&quot;</td><td>72000</td><td>&quot;US&quot;</td><td>100</td><td>&quot;US&quot;</td><td>&quot;L&quot;</td></tr><tr><td>6</td><td>2020</td><td>&quot;SE&quot;</td><td>&quot;FT&quot;</td><td>&quot;Lead Data Scie…</td><td>190000</td><td>&quot;USD&quot;</td><td>190000</td><td>&quot;US&quot;</td><td>100</td><td>&quot;US&quot;</td><td>&quot;S&quot;</td></tr><tr><td>7</td><td>2020</td><td>&quot;MI&quot;</td><td>&quot;FT&quot;</td><td>&quot;Data Scientist…</td><td>11000000</td><td>&quot;HUF&quot;</td><td>35735</td><td>&quot;HU&quot;</td><td>50</td><td>&quot;HU&quot;</td><td>&quot;L&quot;</td></tr><tr><td>8</td><td>2020</td><td>&quot;MI&quot;</td><td>&quot;FT&quot;</td><td>&quot;Business Data …</td><td>135000</td><td>&quot;USD&quot;</td><td>135000</td><td>&quot;US&quot;</td><td>100</td><td>&quot;US&quot;</td><td>&quot;L&quot;</td></tr><tr><td>9</td><td>2020</td><td>&quot;SE&quot;</td><td>&quot;FT&quot;</td><td>&quot;Lead Data Engi…</td><td>125000</td><td>&quot;USD&quot;</td><td>125000</td><td>&quot;NZ&quot;</td><td>50</td><td>&quot;NZ&quot;</td><td>&quot;S&quot;</td></tr><tr><td>10</td><td>2020</td><td>&quot;EN&quot;</td><td>&quot;FT&quot;</td><td>&quot;Data Scientist…</td><td>45000</td><td>&quot;EUR&quot;</td><td>51321</td><td>&quot;FR&quot;</td><td>0</td><td>&quot;FR&quot;</td><td>&quot;S&quot;</td></tr><tr><td>11</td><td>2020</td><td>&quot;MI&quot;</td><td>&quot;FT&quot;</td><td>&quot;Data Scientist…</td><td>3000000</td><td>&quot;INR&quot;</td><td>40481</td><td>&quot;IN&quot;</td><td>0</td><td>&quot;IN&quot;</td><td>&quot;L&quot;</td></tr><tr><td>&hellip;</td><td>&hellip;</td><td>&hellip;</td><td>&hellip;</td><td>&hellip;</td><td>&hellip;</td><td>&hellip;</td><td>&hellip;</td><td>&hellip;</td><td>&hellip;</td><td>&hellip;</td><td>&hellip;</td></tr><tr><td>595</td><td>2022</td><td>&quot;SE&quot;</td><td>&quot;FT&quot;</td><td>&quot;Data Analytics…</td><td>109280</td><td>&quot;USD&quot;</td><td>109280</td><td>&quot;US&quot;</td><td>100</td><td>&quot;US&quot;</td><td>&quot;M&quot;</td></tr><tr><td>596</td><td>2022</td><td>&quot;SE&quot;</td><td>&quot;FT&quot;</td><td>&quot;Data Scientist…</td><td>210000</td><td>&quot;USD&quot;</td><td>210000</td><td>&quot;US&quot;</td><td>100</td><td>&quot;US&quot;</td><td>&quot;M&quot;</td></tr><tr><td>597</td><td>2022</td><td>&quot;SE&quot;</td><td>&quot;FT&quot;</td><td>&quot;Data Analyst&quot;</td><td>170000</td><td>&quot;USD&quot;</td><td>170000</td><td>&quot;US&quot;</td><td>100</td><td>&quot;US&quot;</td><td>&quot;M&quot;</td></tr><tr><td>598</td><td>2022</td><td>&quot;MI&quot;</td><td>&quot;FT&quot;</td><td>&quot;Data Scientist…</td><td>160000</td><td>&quot;USD&quot;</td><td>160000</td><td>&quot;US&quot;</td><td>100</td><td>&quot;US&quot;</td><td>&quot;M&quot;</td></tr><tr><td>599</td><td>2022</td><td>&quot;MI&quot;</td><td>&quot;FT&quot;</td><td>&quot;Data Scientist…</td><td>130000</td><td>&quot;USD&quot;</td><td>130000</td><td>&quot;US&quot;</td><td>100</td><td>&quot;US&quot;</td><td>&quot;M&quot;</td></tr><tr><td>600</td><td>2022</td><td>&quot;EN&quot;</td><td>&quot;FT&quot;</td><td>&quot;Data Analyst&quot;</td><td>67000</td><td>&quot;USD&quot;</td><td>67000</td><td>&quot;CA&quot;</td><td>0</td><td>&quot;CA&quot;</td><td>&quot;M&quot;</td></tr><tr><td>601</td><td>2022</td><td>&quot;EN&quot;</td><td>&quot;FT&quot;</td><td>&quot;Data Analyst&quot;</td><td>52000</td><td>&quot;USD&quot;</td><td>52000</td><td>&quot;CA&quot;</td><td>0</td><td>&quot;CA&quot;</td><td>&quot;M&quot;</td></tr><tr><td>602</td><td>2022</td><td>&quot;SE&quot;</td><td>&quot;FT&quot;</td><td>&quot;Data Engineer&quot;</td><td>154000</td><td>&quot;USD&quot;</td><td>154000</td><td>&quot;US&quot;</td><td>100</td><td>&quot;US&quot;</td><td>&quot;M&quot;</td></tr><tr><td>603</td><td>2022</td><td>&quot;SE&quot;</td><td>&quot;FT&quot;</td><td>&quot;Data Engineer&quot;</td><td>126000</td><td>&quot;USD&quot;</td><td>126000</td><td>&quot;US&quot;</td><td>100</td><td>&quot;US&quot;</td><td>&quot;M&quot;</td></tr><tr><td>604</td><td>2022</td><td>&quot;SE&quot;</td><td>&quot;FT&quot;</td><td>&quot;Data Analyst&quot;</td><td>129000</td><td>&quot;USD&quot;</td><td>129000</td><td>&quot;US&quot;</td><td>0</td><td>&quot;US&quot;</td><td>&quot;M&quot;</td></tr><tr><td>605</td><td>2022</td><td>&quot;SE&quot;</td><td>&quot;FT&quot;</td><td>&quot;Data Analyst&quot;</td><td>150000</td><td>&quot;USD&quot;</td><td>150000</td><td>&quot;US&quot;</td><td>100</td><td>&quot;US&quot;</td><td>&quot;M&quot;</td></tr><tr><td>606</td><td>2022</td><td>&quot;MI&quot;</td><td>&quot;FT&quot;</td><td>&quot;AI Scientist&quot;</td><td>200000</td><td>&quot;USD&quot;</td><td>200000</td><td>&quot;IN&quot;</td><td>100</td><td>&quot;US&quot;</td><td>&quot;L&quot;</td></tr></tbody></table></div>"
      ],
      "text/plain": [
       "shape: (607, 12)\n",
       "┌─────┬─────────┬────────────┬────────────┬───┬────────────┬────────────┬────────────┬────────────┐\n",
       "│     ┆ work_ye ┆ experience ┆ employment ┆ … ┆ employee_r ┆ remote_rat ┆ company_lo ┆ company_si │\n",
       "│ --- ┆ ar      ┆ _level     ┆ _type      ┆   ┆ esidence   ┆ io         ┆ cation     ┆ ze         │\n",
       "│ i64 ┆ ---     ┆ ---        ┆ ---        ┆   ┆ ---        ┆ ---        ┆ ---        ┆ ---        │\n",
       "│     ┆ i64     ┆ str        ┆ str        ┆   ┆ str        ┆ i64        ┆ str        ┆ str        │\n",
       "╞═════╪═════════╪════════════╪════════════╪═══╪════════════╪════════════╪════════════╪════════════╡\n",
       "│ 0   ┆ 2020    ┆ MI         ┆ FT         ┆ … ┆ DE         ┆ 0          ┆ DE         ┆ L          │\n",
       "│ 1   ┆ 2020    ┆ SE         ┆ FT         ┆ … ┆ JP         ┆ 0          ┆ JP         ┆ S          │\n",
       "│ 2   ┆ 2020    ┆ SE         ┆ FT         ┆ … ┆ GB         ┆ 50         ┆ GB         ┆ M          │\n",
       "│ 3   ┆ 2020    ┆ MI         ┆ FT         ┆ … ┆ HN         ┆ 0          ┆ HN         ┆ S          │\n",
       "│ …   ┆ …       ┆ …          ┆ …          ┆ … ┆ …          ┆ …          ┆ …          ┆ …          │\n",
       "│ 603 ┆ 2022    ┆ SE         ┆ FT         ┆ … ┆ US         ┆ 100        ┆ US         ┆ M          │\n",
       "│ 604 ┆ 2022    ┆ SE         ┆ FT         ┆ … ┆ US         ┆ 0          ┆ US         ┆ M          │\n",
       "│ 605 ┆ 2022    ┆ SE         ┆ FT         ┆ … ┆ US         ┆ 100        ┆ US         ┆ M          │\n",
       "│ 606 ┆ 2022    ┆ MI         ┆ FT         ┆ … ┆ IN         ┆ 100        ┆ US         ┆ L          │\n",
       "└─────┴─────────┴────────────┴────────────┴───┴────────────┴────────────┴────────────┴────────────┘"
      ]
     },
     "execution_count": 99,
     "metadata": {},
     "output_type": "execute_result"
    }
   ],
   "source": [
    "import polars as pl\n",
    "\n",
    "df = pl.read_csv('ds_salaries.csv')\n",
    "df"
   ]
  },
  {
   "cell_type": "markdown",
   "id": "8be270ca",
   "metadata": {},
   "source": [
    "a) De acuerdo a cada nivel de experiencia (experience_level) el salario promedio\n",
    "(salary_in_usd) y varianza."
   ]
  },
  {
   "cell_type": "code",
   "execution_count": 95,
   "id": "20d49373",
   "metadata": {
    "scrolled": true
   },
   "outputs": [
    {
     "data": {
      "text/html": [
       "<div><style>\n",
       ".dataframe > thead > tr > th,\n",
       ".dataframe > tbody > tr > td {\n",
       "  text-align: right;\n",
       "}\n",
       "</style>\n",
       "<small>shape: (1, 2)</small><table border=\"1\" class=\"dataframe\"><thead><tr><th>experience_level</th><th>salary_in_usd</th></tr><tr><td>str</td><td>f64</td></tr></thead><tbody><tr><td>null</td><td>5.0349e9</td></tr></tbody></table></div>"
      ],
      "text/plain": [
       "shape: (1, 2)\n",
       "┌──────────────────┬───────────────┐\n",
       "│ experience_level ┆ salary_in_usd │\n",
       "│ ---              ┆ ---           │\n",
       "│ str              ┆ f64           │\n",
       "╞══════════════════╪═══════════════╡\n",
       "│ null             ┆ 5.0349e9      │\n",
       "└──────────────────┴───────────────┘"
      ]
     },
     "execution_count": 95,
     "metadata": {},
     "output_type": "execute_result"
    }
   ],
   "source": [
    "#df.describe()\n",
    "df[:,[2,7]].var()\n",
    "\n",
    "# La varianza del salario promedio es 5.0349e9"
   ]
  },
  {
   "cell_type": "markdown",
   "id": "6aa3cf51",
   "metadata": {},
   "source": [
    "b) Distribución del país de residencia del empleado (employee_residence) ¿cuál es el páis de\n",
    "residencia más frecuente de los empelados?"
   ]
  },
  {
   "cell_type": "code",
   "execution_count": 97,
   "id": "124819d9",
   "metadata": {
    "scrolled": true
   },
   "outputs": [
    {
     "ename": "TypeError",
     "evalue": "slice indices must be integers or None or have an __index__ method",
     "output_type": "error",
     "traceback": [
      "\u001b[1;31m---------------------------------------------------------------------------\u001b[0m",
      "\u001b[1;31mTypeError\u001b[0m                                 Traceback (most recent call last)",
      "Input \u001b[1;32mIn [97]\u001b[0m, in \u001b[0;36m<cell line: 1>\u001b[1;34m()\u001b[0m\n\u001b[1;32m----> 1\u001b[0m \u001b[43mdf\u001b[49m\u001b[43m[\u001b[49m\u001b[43m:\u001b[49m\u001b[43m[\u001b[49m\u001b[38;5;241;43m0\u001b[39;49m\u001b[43m,\u001b[49m\u001b[38;5;241;43m8\u001b[39;49m\u001b[43m]\u001b[49m\u001b[43m]\u001b[49m\u001b[38;5;241m.\u001b[39msum()\n",
      "File \u001b[1;32m~\\anaconda3\\lib\\site-packages\\polars\\dataframe\\frame.py:1578\u001b[0m, in \u001b[0;36mDataFrame.__getitem__\u001b[1;34m(self, item)\u001b[0m\n\u001b[0;32m   1576\u001b[0m \u001b[38;5;66;03m# df[:]\u001b[39;00m\n\u001b[0;32m   1577\u001b[0m \u001b[38;5;28;01mif\u001b[39;00m \u001b[38;5;28misinstance\u001b[39m(item, \u001b[38;5;28mslice\u001b[39m):\n\u001b[1;32m-> 1578\u001b[0m     \u001b[38;5;28;01mreturn\u001b[39;00m \u001b[43mPolarsSlice\u001b[49m\u001b[43m(\u001b[49m\u001b[38;5;28;43mself\u001b[39;49m\u001b[43m)\u001b[49m\u001b[38;5;241;43m.\u001b[39;49m\u001b[43mapply\u001b[49m\u001b[43m(\u001b[49m\u001b[43mitem\u001b[49m\u001b[43m)\u001b[49m\n\u001b[0;32m   1580\u001b[0m \u001b[38;5;66;03m# select rows by numpy mask or index\u001b[39;00m\n\u001b[0;32m   1581\u001b[0m \u001b[38;5;66;03m# df[np.array([1, 2, 3])]\u001b[39;00m\n\u001b[0;32m   1582\u001b[0m \u001b[38;5;66;03m# df[np.array([True, False, True])]\u001b[39;00m\n\u001b[0;32m   1583\u001b[0m \u001b[38;5;28;01mif\u001b[39;00m _check_for_numpy(item) \u001b[38;5;129;01mand\u001b[39;00m \u001b[38;5;28misinstance\u001b[39m(item, np\u001b[38;5;241m.\u001b[39mndarray):\n",
      "File \u001b[1;32m~\\anaconda3\\lib\\site-packages\\polars\\slice.py:85\u001b[0m, in \u001b[0;36mPolarsSlice.apply\u001b[1;34m(self, s)\u001b[0m\n\u001b[0;32m     83\u001b[0m \u001b[38;5;124;03m\"\"\"Apply a slice operation, taking advantage of any potential fast paths.\"\"\"\u001b[39;00m\n\u001b[0;32m     84\u001b[0m \u001b[38;5;66;03m# normalise slice\u001b[39;00m\n\u001b[1;32m---> 85\u001b[0m \u001b[38;5;28;43mself\u001b[39;49m\u001b[38;5;241;43m.\u001b[39;49m\u001b[43m_slice_setup\u001b[49m\u001b[43m(\u001b[49m\u001b[43ms\u001b[49m\u001b[43m)\u001b[49m\n\u001b[0;32m     87\u001b[0m \u001b[38;5;66;03m# check for fast-paths / single-operation calls\u001b[39;00m\n\u001b[0;32m     88\u001b[0m \u001b[38;5;28;01mif\u001b[39;00m \u001b[38;5;28mself\u001b[39m\u001b[38;5;241m.\u001b[39mslice_length \u001b[38;5;241m==\u001b[39m \u001b[38;5;241m0\u001b[39m:\n",
      "File \u001b[1;32m~\\anaconda3\\lib\\site-packages\\polars\\slice.py:57\u001b[0m, in \u001b[0;36mPolarsSlice._slice_setup\u001b[1;34m(self, s)\u001b[0m\n\u001b[0;32m     55\u001b[0m \u001b[38;5;66;03m# can normalise slice indices as we know object size\u001b[39;00m\n\u001b[0;32m     56\u001b[0m obj_len \u001b[38;5;241m=\u001b[39m \u001b[38;5;28mlen\u001b[39m(\u001b[38;5;28mself\u001b[39m\u001b[38;5;241m.\u001b[39mobj)\n\u001b[1;32m---> 57\u001b[0m start, stop, stride \u001b[38;5;241m=\u001b[39m \u001b[38;5;28;43mslice\u001b[39;49m\u001b[43m(\u001b[49m\u001b[43ms\u001b[49m\u001b[38;5;241;43m.\u001b[39;49m\u001b[43mstart\u001b[49m\u001b[43m,\u001b[49m\u001b[43m \u001b[49m\u001b[43ms\u001b[49m\u001b[38;5;241;43m.\u001b[39;49m\u001b[43mstop\u001b[49m\u001b[43m,\u001b[49m\u001b[43m \u001b[49m\u001b[43ms\u001b[49m\u001b[38;5;241;43m.\u001b[39;49m\u001b[43mstep\u001b[49m\u001b[43m)\u001b[49m\u001b[38;5;241;43m.\u001b[39;49m\u001b[43mindices\u001b[49m\u001b[43m(\u001b[49m\u001b[43mobj_len\u001b[49m\u001b[43m)\u001b[49m\n\u001b[0;32m     59\u001b[0m \u001b[38;5;66;03m# check if slice is actually unbounded\u001b[39;00m\n\u001b[0;32m     60\u001b[0m \u001b[38;5;28;01mif\u001b[39;00m stride \u001b[38;5;241m>\u001b[39m\u001b[38;5;241m=\u001b[39m \u001b[38;5;241m1\u001b[39m:\n",
      "\u001b[1;31mTypeError\u001b[0m: slice indices must be integers or None or have an __index__ method"
     ]
    }
   ],
   "source": [
    "df[:[0,8]].sum()"
   ]
  },
  {
   "cell_type": "markdown",
   "id": "106d31ab",
   "metadata": {},
   "source": [
    "c) ¿Qué porcentaje de empleados tuvieron trabajo totalmente remoto (employee_residence)?"
   ]
  },
  {
   "cell_type": "markdown",
   "id": "8a023020",
   "metadata": {},
   "source": [
    "d) El rango de los salarios (salary_in_usd) de acuerdo al rol del trabajo (job_title ) desempeñado"
   ]
  },
  {
   "cell_type": "code",
   "execution_count": 96,
   "id": "eec912b5",
   "metadata": {},
   "outputs": [
    {
     "ename": "TypeError",
     "evalue": "'GroupBy' object is not subscriptable",
     "output_type": "error",
     "traceback": [
      "\u001b[1;31m---------------------------------------------------------------------------\u001b[0m",
      "\u001b[1;31mTypeError\u001b[0m                                 Traceback (most recent call last)",
      "Input \u001b[1;32mIn [96]\u001b[0m, in \u001b[0;36m<cell line: 1>\u001b[1;34m()\u001b[0m\n\u001b[1;32m----> 1\u001b[0m rango \u001b[38;5;241m=\u001b[39m \u001b[43mdf\u001b[49m\u001b[38;5;241;43m.\u001b[39;49m\u001b[43mgroupby\u001b[49m\u001b[43m(\u001b[49m\u001b[38;5;124;43m\"\u001b[39;49m\u001b[38;5;124;43mjob_title\u001b[39;49m\u001b[38;5;124;43m\"\u001b[39;49m\u001b[43m)\u001b[49m\u001b[43m[\u001b[49m\u001b[38;5;124;43m\"\u001b[39;49m\u001b[38;5;124;43msalary_in_usd\u001b[39;49m\u001b[38;5;124;43m\"\u001b[39;49m\u001b[43m]\u001b[49m\u001b[38;5;241m.\u001b[39mapply(\u001b[38;5;28;01mlambda\u001b[39;00m x: x\u001b[38;5;241m.\u001b[39mmax() \u001b[38;5;241m-\u001b[39m x\u001b[38;5;241m.\u001b[39mmin())\n",
      "\u001b[1;31mTypeError\u001b[0m: 'GroupBy' object is not subscriptable"
     ]
    }
   ],
   "source": [
    "rango = df.groupby(\"job_title\")[\"salary_in_usd\"].apply(lambda x: x.max() - x.min())"
   ]
  },
  {
   "cell_type": "code",
   "execution_count": 90,
   "id": "7008bf52",
   "metadata": {
    "scrolled": true
   },
   "outputs": [
    {
     "ename": "TypeError",
     "evalue": "groupby() missing 1 required positional argument: 'by'",
     "output_type": "error",
     "traceback": [
      "\u001b[1;31m---------------------------------------------------------------------------\u001b[0m",
      "\u001b[1;31mTypeError\u001b[0m                                 Traceback (most recent call last)",
      "Input \u001b[1;32mIn [90]\u001b[0m, in \u001b[0;36m<cell line: 1>\u001b[1;34m()\u001b[0m\n\u001b[1;32m----> 1\u001b[0m \u001b[43mdf\u001b[49m\u001b[43m[\u001b[49m\u001b[43m:\u001b[49m\u001b[43m,\u001b[49m\u001b[43m[\u001b[49m\u001b[38;5;241;43m4\u001b[39;49m\u001b[43m,\u001b[49m\u001b[38;5;241;43m7\u001b[39;49m\u001b[43m]\u001b[49m\u001b[43m]\u001b[49m\u001b[38;5;241;43m.\u001b[39;49m\u001b[43mgroupby\u001b[49m\u001b[43m(\u001b[49m\u001b[43m)\u001b[49m\u001b[38;5;241m.\u001b[39msum()\n",
      "\u001b[1;31mTypeError\u001b[0m: groupby() missing 1 required positional argument: 'by'"
     ]
    }
   ],
   "source": [
    "df[:,[4,7]]"
   ]
  },
  {
   "cell_type": "markdown",
   "id": "689bf344",
   "metadata": {},
   "source": [
    "# Pregunta 2"
   ]
  },
  {
   "cell_type": "code",
   "execution_count": 81,
   "id": "9745cbbd",
   "metadata": {
    "scrolled": true
   },
   "outputs": [
    {
     "name": "stdout",
     "output_type": "stream",
     "text": [
      "Requirement already satisfied: beautifulsoup4 in c:\\users\\alumno\\anaconda3\\lib\\site-packages (4.11.1)Note: you may need to restart the kernel to use updated packages.\n",
      "Requirement already satisfied: soupsieve>1.2 in c:\\users\\alumno\\anaconda3\\lib\\site-packages (from beautifulsoup4) (2.3.1)\n",
      "\n"
     ]
    }
   ],
   "source": [
    "pip install beautifulsoup4"
   ]
  },
  {
   "cell_type": "code",
   "execution_count": 84,
   "id": "2d5ec594",
   "metadata": {},
   "outputs": [],
   "source": [
    "from bs4 import BeautifulSoup\n",
    "\n",
    "URL = ('https://www.ncbi.nlm.nih.gov/protein/?term=caseine')"
   ]
  },
  {
   "cell_type": "code",
   "execution_count": null,
   "id": "ef3ecf71",
   "metadata": {},
   "outputs": [],
   "source": []
  }
 ],
 "metadata": {
  "kernelspec": {
   "display_name": "Python 3 (ipykernel)",
   "language": "python",
   "name": "python3"
  },
  "language_info": {
   "codemirror_mode": {
    "name": "ipython",
    "version": 3
   },
   "file_extension": ".py",
   "mimetype": "text/x-python",
   "name": "python",
   "nbconvert_exporter": "python",
   "pygments_lexer": "ipython3",
   "version": "3.9.12"
  }
 },
 "nbformat": 4,
 "nbformat_minor": 5
}
