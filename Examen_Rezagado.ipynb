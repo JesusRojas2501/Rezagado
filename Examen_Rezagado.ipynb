{
 "cells": [
  {
   "cell_type": "markdown",
   "id": "363fd1ee",
   "metadata": {},
   "source": [
    "# Pregunta 1"
   ]
  },
  {
   "cell_type": "code",
   "execution_count": 2,
   "id": "15259779",
   "metadata": {
    "scrolled": true
   },
   "outputs": [
    {
     "name": "stdout",
     "output_type": "stream",
     "text": [
      "Requirement already satisfied: pandas in c:\\users\\alumno\\anaconda3\\lib\\site-packages (1.4.2)Note: you may need to restart the kernel to use updated packages.\n",
      "Requirement already satisfied: numpy>=1.18.5 in c:\\users\\alumno\\anaconda3\\lib\\site-packages (from pandas) (1.21.5)\n",
      "Requirement already satisfied: pytz>=2020.1 in c:\\users\\alumno\\anaconda3\\lib\\site-packages (from pandas) (2021.3)\n",
      "Requirement already satisfied: python-dateutil>=2.8.1 in c:\\users\\alumno\\anaconda3\\lib\\site-packages (from pandas) (2.8.2)\n",
      "Requirement already satisfied: six>=1.5 in c:\\users\\alumno\\anaconda3\\lib\\site-packages (from python-dateutil>=2.8.1->pandas) (1.16.0)\n",
      "\n"
     ]
    }
   ],
   "source": [
    "#pip install pandas"
   ]
  },
  {
   "cell_type": "code",
   "execution_count": 19,
   "id": "e23efedf",
   "metadata": {},
   "outputs": [
    {
     "name": "stdout",
     "output_type": "stream",
     "text": [
      "Collecting polarsNote: you may need to restart the kernel to use updated packages.\n",
      "\n",
      "  Downloading polars-0.18.6-cp38-abi3-win_amd64.whl (19.8 MB)\n",
      "Installing collected packages: polars\n",
      "Successfully installed polars-0.18.6\n"
     ]
    }
   ],
   "source": [
    "#pip install polars"
   ]
  },
  {
   "cell_type": "code",
   "execution_count": 99,
   "id": "98fa3626",
   "metadata": {
    "scrolled": true
   },
   "outputs": [
    {
     "data": {
      "text/html": [
       "<div><style>\n",
       ".dataframe > thead > tr > th,\n",
       ".dataframe > tbody > tr > td {\n",
       "  text-align: right;\n",
       "}\n",
       "</style>\n",
       "<small>shape: (607, 12)</small><table border=\"1\" class=\"dataframe\"><thead><tr><th></th><th>work_year</th><th>experience_level</th><th>employment_type</th><th>job_title</th><th>salary</th><th>salary_currency</th><th>salary_in_usd</th><th>employee_residence</th><th>remote_ratio</th><th>company_location</th><th>company_size</th></tr><tr><td>i64</td><td>i64</td><td>str</td><td>str</td><td>str</td><td>i64</td><td>str</td><td>i64</td><td>str</td><td>i64</td><td>str</td><td>str</td></tr></thead><tbody><tr><td>0</td><td>2020</td><td>&quot;MI&quot;</td><td>&quot;FT&quot;</td><td>&quot;Data Scientist…</td><td>70000</td><td>&quot;EUR&quot;</td><td>79833</td><td>&quot;DE&quot;</td><td>0</td><td>&quot;DE&quot;</td><td>&quot;L&quot;</td></tr><tr><td>1</td><td>2020</td><td>&quot;SE&quot;</td><td>&quot;FT&quot;</td><td>&quot;Machine Learni…</td><td>260000</td><td>&quot;USD&quot;</td><td>260000</td><td>&quot;JP&quot;</td><td>0</td><td>&quot;JP&quot;</td><td>&quot;S&quot;</td></tr><tr><td>2</td><td>2020</td><td>&quot;SE&quot;</td><td>&quot;FT&quot;</td><td>&quot;Big Data Engin…</td><td>85000</td><td>&quot;GBP&quot;</td><td>109024</td><td>&quot;GB&quot;</td><td>50</td><td>&quot;GB&quot;</td><td>&quot;M&quot;</td></tr><tr><td>3</td><td>2020</td><td>&quot;MI&quot;</td><td>&quot;FT&quot;</td><td>&quot;Product Data A…</td><td>20000</td><td>&quot;USD&quot;</td><td>20000</td><td>&quot;HN&quot;</td><td>0</td><td>&quot;HN&quot;</td><td>&quot;S&quot;</td></tr><tr><td>4</td><td>2020</td><td>&quot;SE&quot;</td><td>&quot;FT&quot;</td><td>&quot;Machine Learni…</td><td>150000</td><td>&quot;USD&quot;</td><td>150000</td><td>&quot;US&quot;</td><td>50</td><td>&quot;US&quot;</td><td>&quot;L&quot;</td></tr><tr><td>5</td><td>2020</td><td>&quot;EN&quot;</td><td>&quot;FT&quot;</td><td>&quot;Data Analyst&quot;</td><td>72000</td><td>&quot;USD&quot;</td><td>72000</td><td>&quot;US&quot;</td><td>100</td><td>&quot;US&quot;</td><td>&quot;L&quot;</td></tr><tr><td>6</td><td>2020</td><td>&quot;SE&quot;</td><td>&quot;FT&quot;</td><td>&quot;Lead Data Scie…</td><td>190000</td><td>&quot;USD&quot;</td><td>190000</td><td>&quot;US&quot;</td><td>100</td><td>&quot;US&quot;</td><td>&quot;S&quot;</td></tr><tr><td>7</td><td>2020</td><td>&quot;MI&quot;</td><td>&quot;FT&quot;</td><td>&quot;Data Scientist…</td><td>11000000</td><td>&quot;HUF&quot;</td><td>35735</td><td>&quot;HU&quot;</td><td>50</td><td>&quot;HU&quot;</td><td>&quot;L&quot;</td></tr><tr><td>8</td><td>2020</td><td>&quot;MI&quot;</td><td>&quot;FT&quot;</td><td>&quot;Business Data …</td><td>135000</td><td>&quot;USD&quot;</td><td>135000</td><td>&quot;US&quot;</td><td>100</td><td>&quot;US&quot;</td><td>&quot;L&quot;</td></tr><tr><td>9</td><td>2020</td><td>&quot;SE&quot;</td><td>&quot;FT&quot;</td><td>&quot;Lead Data Engi…</td><td>125000</td><td>&quot;USD&quot;</td><td>125000</td><td>&quot;NZ&quot;</td><td>50</td><td>&quot;NZ&quot;</td><td>&quot;S&quot;</td></tr><tr><td>10</td><td>2020</td><td>&quot;EN&quot;</td><td>&quot;FT&quot;</td><td>&quot;Data Scientist…</td><td>45000</td><td>&quot;EUR&quot;</td><td>51321</td><td>&quot;FR&quot;</td><td>0</td><td>&quot;FR&quot;</td><td>&quot;S&quot;</td></tr><tr><td>11</td><td>2020</td><td>&quot;MI&quot;</td><td>&quot;FT&quot;</td><td>&quot;Data Scientist…</td><td>3000000</td><td>&quot;INR&quot;</td><td>40481</td><td>&quot;IN&quot;</td><td>0</td><td>&quot;IN&quot;</td><td>&quot;L&quot;</td></tr><tr><td>&hellip;</td><td>&hellip;</td><td>&hellip;</td><td>&hellip;</td><td>&hellip;</td><td>&hellip;</td><td>&hellip;</td><td>&hellip;</td><td>&hellip;</td><td>&hellip;</td><td>&hellip;</td><td>&hellip;</td></tr><tr><td>595</td><td>2022</td><td>&quot;SE&quot;</td><td>&quot;FT&quot;</td><td>&quot;Data Analytics…</td><td>109280</td><td>&quot;USD&quot;</td><td>109280</td><td>&quot;US&quot;</td><td>100</td><td>&quot;US&quot;</td><td>&quot;M&quot;</td></tr><tr><td>596</td><td>2022</td><td>&quot;SE&quot;</td><td>&quot;FT&quot;</td><td>&quot;Data Scientist…</td><td>210000</td><td>&quot;USD&quot;</td><td>210000</td><td>&quot;US&quot;</td><td>100</td><td>&quot;US&quot;</td><td>&quot;M&quot;</td></tr><tr><td>597</td><td>2022</td><td>&quot;SE&quot;</td><td>&quot;FT&quot;</td><td>&quot;Data Analyst&quot;</td><td>170000</td><td>&quot;USD&quot;</td><td>170000</td><td>&quot;US&quot;</td><td>100</td><td>&quot;US&quot;</td><td>&quot;M&quot;</td></tr><tr><td>598</td><td>2022</td><td>&quot;MI&quot;</td><td>&quot;FT&quot;</td><td>&quot;Data Scientist…</td><td>160000</td><td>&quot;USD&quot;</td><td>160000</td><td>&quot;US&quot;</td><td>100</td><td>&quot;US&quot;</td><td>&quot;M&quot;</td></tr><tr><td>599</td><td>2022</td><td>&quot;MI&quot;</td><td>&quot;FT&quot;</td><td>&quot;Data Scientist…</td><td>130000</td><td>&quot;USD&quot;</td><td>130000</td><td>&quot;US&quot;</td><td>100</td><td>&quot;US&quot;</td><td>&quot;M&quot;</td></tr><tr><td>600</td><td>2022</td><td>&quot;EN&quot;</td><td>&quot;FT&quot;</td><td>&quot;Data Analyst&quot;</td><td>67000</td><td>&quot;USD&quot;</td><td>67000</td><td>&quot;CA&quot;</td><td>0</td><td>&quot;CA&quot;</td><td>&quot;M&quot;</td></tr><tr><td>601</td><td>2022</td><td>&quot;EN&quot;</td><td>&quot;FT&quot;</td><td>&quot;Data Analyst&quot;</td><td>52000</td><td>&quot;USD&quot;</td><td>52000</td><td>&quot;CA&quot;</td><td>0</td><td>&quot;CA&quot;</td><td>&quot;M&quot;</td></tr><tr><td>602</td><td>2022</td><td>&quot;SE&quot;</td><td>&quot;FT&quot;</td><td>&quot;Data Engineer&quot;</td><td>154000</td><td>&quot;USD&quot;</td><td>154000</td><td>&quot;US&quot;</td><td>100</td><td>&quot;US&quot;</td><td>&quot;M&quot;</td></tr><tr><td>603</td><td>2022</td><td>&quot;SE&quot;</td><td>&quot;FT&quot;</td><td>&quot;Data Engineer&quot;</td><td>126000</td><td>&quot;USD&quot;</td><td>126000</td><td>&quot;US&quot;</td><td>100</td><td>&quot;US&quot;</td><td>&quot;M&quot;</td></tr><tr><td>604</td><td>2022</td><td>&quot;SE&quot;</td><td>&quot;FT&quot;</td><td>&quot;Data Analyst&quot;</td><td>129000</td><td>&quot;USD&quot;</td><td>129000</td><td>&quot;US&quot;</td><td>0</td><td>&quot;US&quot;</td><td>&quot;M&quot;</td></tr><tr><td>605</td><td>2022</td><td>&quot;SE&quot;</td><td>&quot;FT&quot;</td><td>&quot;Data Analyst&quot;</td><td>150000</td><td>&quot;USD&quot;</td><td>150000</td><td>&quot;US&quot;</td><td>100</td><td>&quot;US&quot;</td><td>&quot;M&quot;</td></tr><tr><td>606</td><td>2022</td><td>&quot;MI&quot;</td><td>&quot;FT&quot;</td><td>&quot;AI Scientist&quot;</td><td>200000</td><td>&quot;USD&quot;</td><td>200000</td><td>&quot;IN&quot;</td><td>100</td><td>&quot;US&quot;</td><td>&quot;L&quot;</td></tr></tbody></table></div>"
      ],
      "text/plain": [
       "shape: (607, 12)\n",
       "┌─────┬─────────┬────────────┬────────────┬───┬────────────┬────────────┬────────────┬────────────┐\n",
       "│     ┆ work_ye ┆ experience ┆ employment ┆ … ┆ employee_r ┆ remote_rat ┆ company_lo ┆ company_si │\n",
       "│ --- ┆ ar      ┆ _level     ┆ _type      ┆   ┆ esidence   ┆ io         ┆ cation     ┆ ze         │\n",
       "│ i64 ┆ ---     ┆ ---        ┆ ---        ┆   ┆ ---        ┆ ---        ┆ ---        ┆ ---        │\n",
       "│     ┆ i64     ┆ str        ┆ str        ┆   ┆ str        ┆ i64        ┆ str        ┆ str        │\n",
       "╞═════╪═════════╪════════════╪════════════╪═══╪════════════╪════════════╪════════════╪════════════╡\n",
       "│ 0   ┆ 2020    ┆ MI         ┆ FT         ┆ … ┆ DE         ┆ 0          ┆ DE         ┆ L          │\n",
       "│ 1   ┆ 2020    ┆ SE         ┆ FT         ┆ … ┆ JP         ┆ 0          ┆ JP         ┆ S          │\n",
       "│ 2   ┆ 2020    ┆ SE         ┆ FT         ┆ … ┆ GB         ┆ 50         ┆ GB         ┆ M          │\n",
       "│ 3   ┆ 2020    ┆ MI         ┆ FT         ┆ … ┆ HN         ┆ 0          ┆ HN         ┆ S          │\n",
       "│ …   ┆ …       ┆ …          ┆ …          ┆ … ┆ …          ┆ …          ┆ …          ┆ …          │\n",
       "│ 603 ┆ 2022    ┆ SE         ┆ FT         ┆ … ┆ US         ┆ 100        ┆ US         ┆ M          │\n",
       "│ 604 ┆ 2022    ┆ SE         ┆ FT         ┆ … ┆ US         ┆ 0          ┆ US         ┆ M          │\n",
       "│ 605 ┆ 2022    ┆ SE         ┆ FT         ┆ … ┆ US         ┆ 100        ┆ US         ┆ M          │\n",
       "│ 606 ┆ 2022    ┆ MI         ┆ FT         ┆ … ┆ IN         ┆ 100        ┆ US         ┆ L          │\n",
       "└─────┴─────────┴────────────┴────────────┴───┴────────────┴────────────┴────────────┴────────────┘"
      ]
     },
     "execution_count": 99,
     "metadata": {},
     "output_type": "execute_result"
    }
   ],
   "source": [
    "import polars as pl\n",
    "\n",
    "df = pl.read_csv('ds_salaries.csv')\n",
    "df"
   ]
  },
  {
   "cell_type": "markdown",
   "id": "4892c660",
   "metadata": {},
   "source": [
    "a) De acuerdo a cada nivel de experiencia (experience_level) el salario promedio\n",
    "(salary_in_usd) y varianza."
   ]
  },
  {
   "cell_type": "code",
   "execution_count": 121,
   "id": "156695b6",
   "metadata": {
    "scrolled": true
   },
   "outputs": [
    {
     "data": {
      "text/html": [
       "<div><style>\n",
       ".dataframe > thead > tr > th,\n",
       ".dataframe > tbody > tr > td {\n",
       "  text-align: right;\n",
       "}\n",
       "</style>\n",
       "<small>shape: (1, 2)</small><table border=\"1\" class=\"dataframe\"><thead><tr><th>experience_level</th><th>count</th></tr><tr><td>str</td><td>f64</td></tr></thead><tbody><tr><td>null</td><td>13358.916667</td></tr></tbody></table></div>"
      ],
      "text/plain": [
       "shape: (1, 2)\n",
       "┌──────────────────┬──────────────┐\n",
       "│ experience_level ┆ count        │\n",
       "│ ---              ┆ ---          │\n",
       "│ str              ┆ f64          │\n",
       "╞══════════════════╪══════════════╡\n",
       "│ null             ┆ 13358.916667 │\n",
       "└──────────────────┴──────────────┘"
      ]
     },
     "execution_count": 121,
     "metadata": {},
     "output_type": "execute_result"
    }
   ],
   "source": [
    "#df.describe()\n",
    "df[:,[2,7]].var()\n",
    "\n",
    "# La varianza del salario promedio es 5.0349e9"
   ]
  },
  {
   "cell_type": "markdown",
   "id": "e69bb420",
   "metadata": {},
   "source": [
    "b) Distribución del país de residencia del empleado (employee_residence) ¿cuál es el páis de\n",
    "residencia más frecuente de los empelados?"
   ]
  },
  {
   "cell_type": "code",
   "execution_count": 118,
   "id": "035462ec",
   "metadata": {
    "scrolled": true
   },
   "outputs": [
    {
     "data": {
      "text/html": [
       "<div><style>\n",
       ".dataframe > thead > tr > th,\n",
       ".dataframe > tbody > tr > td {\n",
       "  text-align: right;\n",
       "}\n",
       "</style>\n",
       "<small>shape: (1, 2)</small><table border=\"1\" class=\"dataframe\"><thead><tr><th>employee_residence</th><th>count</th></tr><tr><td>str</td><td>u32</td></tr></thead><tbody><tr><td>&quot;VN&quot;</td><td>332</td></tr></tbody></table></div>"
      ],
      "text/plain": [
       "shape: (1, 2)\n",
       "┌────────────────────┬───────┐\n",
       "│ employee_residence ┆ count │\n",
       "│ ---                ┆ ---   │\n",
       "│ str                ┆ u32   │\n",
       "╞════════════════════╪═══════╡\n",
       "│ VN                 ┆ 332   │\n",
       "└────────────────────┴───────┘"
      ]
     },
     "execution_count": 118,
     "metadata": {},
     "output_type": "execute_result"
    }
   ],
   "source": [
    "df.groupby(by=\"employee_residence\").count().max()\n",
    "# El pais mas frecuente es VN con 332"
   ]
  },
  {
   "cell_type": "markdown",
   "id": "7c674a8a",
   "metadata": {},
   "source": [
    "c) ¿Qué porcentaje de empleados tuvieron trabajo totalmente remoto (employee_residence)?"
   ]
  },
  {
   "cell_type": "markdown",
   "id": "09b821fc",
   "metadata": {},
   "source": [
    "d) El rango de los salarios (salary_in_usd) de acuerdo al rol del trabajo (job_title ) desempeñado"
   ]
  },
  {
   "cell_type": "code",
   "execution_count": 103,
   "id": "e7427354",
   "metadata": {
    "scrolled": false
   },
   "outputs": [
    {
     "data": {
      "text/html": [
       "<div><style>\n",
       ".dataframe > thead > tr > th,\n",
       ".dataframe > tbody > tr > td {\n",
       "  text-align: right;\n",
       "}\n",
       "</style>\n",
       "<small>shape: (9, 3)</small><table border=\"1\" class=\"dataframe\"><thead><tr><th>describe</th><th>job_title</th><th>salary_in_usd</th></tr><tr><td>str</td><td>str</td><td>f64</td></tr></thead><tbody><tr><td>&quot;count&quot;</td><td>&quot;607&quot;</td><td>607.0</td></tr><tr><td>&quot;null_count&quot;</td><td>&quot;0&quot;</td><td>0.0</td></tr><tr><td>&quot;mean&quot;</td><td>null</td><td>112297.869852</td></tr><tr><td>&quot;std&quot;</td><td>null</td><td>70957.259411</td></tr><tr><td>&quot;min&quot;</td><td>&quot;3D Computer Vi…</td><td>2859.0</td></tr><tr><td>&quot;max&quot;</td><td>&quot;Staff Data Sci…</td><td>600000.0</td></tr><tr><td>&quot;median&quot;</td><td>null</td><td>101570.0</td></tr><tr><td>&quot;25%&quot;</td><td>null</td><td>62726.0</td></tr><tr><td>&quot;75%&quot;</td><td>null</td><td>150000.0</td></tr></tbody></table></div>"
      ],
      "text/plain": [
       "shape: (9, 3)\n",
       "┌────────────┬───────────────────────────────┬───────────────┐\n",
       "│ describe   ┆ job_title                     ┆ salary_in_usd │\n",
       "│ ---        ┆ ---                           ┆ ---           │\n",
       "│ str        ┆ str                           ┆ f64           │\n",
       "╞════════════╪═══════════════════════════════╪═══════════════╡\n",
       "│ count      ┆ 607                           ┆ 607.0         │\n",
       "│ null_count ┆ 0                             ┆ 0.0           │\n",
       "│ mean       ┆ null                          ┆ 112297.869852 │\n",
       "│ std        ┆ null                          ┆ 70957.259411  │\n",
       "│ min        ┆ 3D Computer Vision Researcher ┆ 2859.0        │\n",
       "│ max        ┆ Staff Data Scientist          ┆ 600000.0      │\n",
       "│ median     ┆ null                          ┆ 101570.0      │\n",
       "│ 25%        ┆ null                          ┆ 62726.0       │\n",
       "│ 75%        ┆ null                          ┆ 150000.0      │\n",
       "└────────────┴───────────────────────────────┴───────────────┘"
      ]
     },
     "execution_count": 103,
     "metadata": {},
     "output_type": "execute_result"
    }
   ],
   "source": [
    "df[:,[4,7]].describe()\n",
    "# el minimo es 3D Computer con un salario minimo de 2859\n",
    "# el maximo es Staff Data SCIENCE Con un salario maximo de 600000."
   ]
  },
  {
   "cell_type": "markdown",
   "id": "624080c3",
   "metadata": {},
   "source": [
    "# Pregunta 2"
   ]
  },
  {
   "cell_type": "code",
   "execution_count": 81,
   "id": "f31d1c34",
   "metadata": {
    "scrolled": true
   },
   "outputs": [
    {
     "name": "stdout",
     "output_type": "stream",
     "text": [
      "Requirement already satisfied: beautifulsoup4 in c:\\users\\alumno\\anaconda3\\lib\\site-packages (4.11.1)Note: you may need to restart the kernel to use updated packages.\n",
      "Requirement already satisfied: soupsieve>1.2 in c:\\users\\alumno\\anaconda3\\lib\\site-packages (from beautifulsoup4) (2.3.1)\n",
      "\n"
     ]
    }
   ],
   "source": [
    "pip install beautifulsoup4"
   ]
  },
  {
   "cell_type": "code",
   "execution_count": 84,
   "id": "69f65e3a",
   "metadata": {},
   "outputs": [],
   "source": [
    "from bs4 import BeautifulSoup\n",
    "\n",
    "URL = ('https://www.ncbi.nlm.nih.gov/protein/?term=caseine')"
   ]
  },
  {
   "cell_type": "code",
   "execution_count": null,
   "id": "d00f3d4f",
   "metadata": {},
   "outputs": [],
   "source": []
  }
 ],
 "metadata": {
  "kernelspec": {
   "display_name": "Python 3 (ipykernel)",
   "language": "python",
   "name": "python3"
  },
  "language_info": {
   "codemirror_mode": {
    "name": "ipython",
    "version": 3
   },
   "file_extension": ".py",
   "mimetype": "text/x-python",
   "name": "python",
   "nbconvert_exporter": "python",
   "pygments_lexer": "ipython3",
   "version": "3.9.12"
  }
 },
 "nbformat": 4,
 "nbformat_minor": 5
}
